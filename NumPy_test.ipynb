{
  "nbformat": 4,
  "nbformat_minor": 0,
  "metadata": {
    "colab": {
      "provenance": [],
      "toc_visible": true
    },
    "kernelspec": {
      "name": "python3",
      "display_name": "Python 3"
    }
  },
  "cells": [
    {
      "cell_type": "markdown",
      "metadata": {
        "id": "Y5g6RJRZq_wq"
      },
      "source": [
        "#M1-1 體驗 NumPy 的高速運算"
      ]
    },
    {
      "cell_type": "code",
      "metadata": {
        "colab": {
          "base_uri": "https://localhost:8080/"
        },
        "id": "cZjq1t4kjx_D",
        "outputId": "fd14830d-65a1-4b28-c690-a6a1f3b128ca"
      },
      "source": [
        "import numpy as np\n",
        "from numpy.random import rand\n",
        "import time\n",
        "\n",
        "\n",
        "N = 150\n",
        "matA = np.array(rand(N, N))\n",
        "matB = np.array(rand(N, N))\n",
        "matC = np.array([[0] * N for _ in range(N)])\n",
        "\n",
        "\n",
        "# 使用 Python 計算\n",
        "start = time.time()\n",
        "for i in range(N):\n",
        "    for j in range(N):\n",
        "        for k in range(N):\n",
        "            matC[i][j] = matA[i][k] * matB[k][j]\n",
        "print(\"Python 的計算結果：%f[sec]\" % float(time.time() - start))\n",
        "\n",
        "# 使用 NumPy 計算\n",
        "\n",
        "start = time.time()\n",
        "matC = np.dot(matA, matB)\n",
        "\n",
        "\n",
        "# 如果NumPy出現0.00[sec], 不代表真的是0, 而是小數點第2位後不表示的結果\n",
        "print(\"NumPy 的計算結果：%f[sec]\" % float(time.time() - start))\n"
      ],
      "execution_count": null,
      "outputs": [
        {
          "output_type": "stream",
          "name": "stdout",
          "text": [
            "Python 的計算結果：3.569450[sec]\n",
            "NumPy 的計算結果：0.006742[sec]\n"
          ]
        }
      ]
    },
    {
      "cell_type": "markdown",
      "metadata": {
        "id": "vjETVEfwckDm"
      },
      "source": [
        "# M1-2 陣列的基本操作"
      ]
    },
    {
      "cell_type": "markdown",
      "metadata": {
        "id": "4EeJsLOop535"
      },
      "source": [
        "## M1-2-1\t 建立陣列 (test1)"
      ]
    },
    {
      "cell_type": "code",
      "metadata": {
        "id": "Ex6DEI6_rBrH",
        "colab": {
          "base_uri": "https://localhost:8080/"
        },
        "outputId": "1b63da48-e2af-416e-bad5-9dfb0e365a3c"
      },
      "source": [
        "np.array([1, 2, 3])"
      ],
      "execution_count": null,
      "outputs": [
        {
          "output_type": "execute_result",
          "data": {
            "text/plain": [
              "array([1, 2, 3])"
            ]
          },
          "metadata": {},
          "execution_count": 2
        }
      ]
    },
    {
      "cell_type": "code",
      "metadata": {
        "colab": {
          "base_uri": "https://localhost:8080/"
        },
        "id": "RzjU72MeqNvw",
        "outputId": "422b01bb-4259-4b05-9596-4961054ff3cc"
      },
      "source": [
        "print(np.arange(5))\n",
        "print(np.arange(1,5))\n",
        "print(np.arange(0,10,2))"
      ],
      "execution_count": null,
      "outputs": [
        {
          "output_type": "stream",
          "name": "stdout",
          "text": [
            "[0 1 2 3 4]\n",
            "[1 2 3 4]\n",
            "[0 2 4 6 8]\n"
          ]
        }
      ]
    },
    {
      "cell_type": "code",
      "metadata": {
        "colab": {
          "base_uri": "https://localhost:8080/"
        },
        "id": "8lDfznLyqRNw",
        "outputId": "9150c6fc-4509-4d2c-9a39-5fcd4a40cfac"
      },
      "source": [
        "print(np.linspace(0,1,5))"
      ],
      "execution_count": null,
      "outputs": [
        {
          "output_type": "stream",
          "name": "stdout",
          "text": [
            "[0.   0.25 0.5  0.75 1.  ]\n"
          ]
        }
      ]
    },
    {
      "cell_type": "code",
      "metadata": {
        "colab": {
          "base_uri": "https://localhost:8080/"
        },
        "id": "pfnuiuJqqWHl",
        "outputId": "11ac7788-6d5b-4cc8-e362-69a44bf7476f"
      },
      "source": [
        "print(np.zeros(5))\n",
        "print(np.ones(5))"
      ],
      "execution_count": null,
      "outputs": [
        {
          "output_type": "stream",
          "name": "stdout",
          "text": [
            "[0. 0. 0. 0. 0.]\n",
            "[1. 1. 1. 1. 1.]\n"
          ]
        }
      ]
    },
    {
      "cell_type": "code",
      "metadata": {
        "colab": {
          "base_uri": "https://localhost:8080/"
        },
        "id": "HcNRGt08qWlZ",
        "outputId": "7cb42169-37c2-4e54-af4e-bf04f47db135"
      },
      "source": [
        "import numpy as np\n",
        "X = np.random.randn(5)\n",
        "Y = np.random.randn(5)\n",
        "print('X:', X)\n",
        "print('Y:', Y)\n",
        "np.random.seed(0)\n",
        "X = np.random.randn(5)\n",
        "np.random.seed(0)\n",
        "Y = np.random.randn(5)\n",
        "print('X (seed=0):', X)\n",
        "print('Y (seed=0):', Y)"
      ],
      "execution_count": null,
      "outputs": [
        {
          "output_type": "stream",
          "name": "stdout",
          "text": [
            "X: [ 0.43137352 -0.0464951   0.3680705   0.72245993 -1.06260667]\n",
            "Y: [-0.34103601 -0.75849844  0.0149053   0.40073897  1.12963786]\n",
            "X (seed=0): [1.76405235 0.40015721 0.97873798 2.2408932  1.86755799]\n",
            "Y (seed=0): [1.76405235 0.40015721 0.97873798 2.2408932  1.86755799]\n"
          ]
        }
      ]
    },
    {
      "cell_type": "code",
      "metadata": {
        "colab": {
          "base_uri": "https://localhost:8080/"
        },
        "id": "Aixsoo5Hqf64",
        "outputId": "a785db62-7928-41da-8334-58a4f85e5ae8"
      },
      "source": [
        "import numpy as np\n",
        "# arr1\n",
        "arr1 = np.random.randint(0, 11, (5, 2))\n",
        "print('arr1:')\n",
        "print(arr1)\n",
        "# arr2\n",
        "arr2 = np.random.rand(3)\n",
        "print('arr2:')\n",
        "print(arr2)"
      ],
      "execution_count": null,
      "outputs": [
        {
          "output_type": "stream",
          "name": "stdout",
          "text": [
            "arr1:\n",
            "[[9 8]\n",
            " [4 9]\n",
            " [2 9]\n",
            " [4 4]\n",
            " [4 5]]\n",
            "arr2:\n",
            "[9.79403619e-01 5.82369506e-01 9.27102402e-04]\n"
          ]
        }
      ]
    },
    {
      "cell_type": "code",
      "metadata": {
        "colab": {
          "base_uri": "https://localhost:8080/"
        },
        "id": "fLzk3vplqlZ4",
        "outputId": "3994aa0f-9a57-4177-8e14-e3afad825e24"
      },
      "source": [
        "import numpy as np\n",
        "np.random.seed(0)\n",
        "x = ['蘋果', '橘子', '香蕉', '鳳梨', '奇異果', '草莓']\n",
        "print(np.random.choice(x, 5))"
      ],
      "execution_count": null,
      "outputs": [
        {
          "output_type": "stream",
          "name": "stdout",
          "text": [
            "['奇異果' '草莓' '蘋果' '鳳梨' '鳳梨']\n"
          ]
        }
      ]
    },
    {
      "cell_type": "code",
      "metadata": {
        "colab": {
          "base_uri": "https://localhost:8080/"
        },
        "id": "eQDlcQPVqmgZ",
        "outputId": "23b46881-f3d0-4901-c71b-d91d71b0a3ab"
      },
      "source": [
        "import numpy as np\n",
        "print('---------------↓不使用 copy()↓---------------')\n",
        "arr1 = np.array([1, 2, 3, 4, 5])\n",
        "print('arr1:'+str(arr1))\n",
        "arr2 = arr1\n",
        "arr2[0] = 100\n",
        "print('arr2:'+str(arr1))\n",
        "print('arr1:'+str(arr2))"
      ],
      "execution_count": null,
      "outputs": [
        {
          "output_type": "stream",
          "name": "stdout",
          "text": [
            "---------------↓不使用 copy()↓---------------\n",
            "arr1:[1 2 3 4 5]\n",
            "arr2:[100   2   3   4   5]\n",
            "arr1:[100   2   3   4   5]\n"
          ]
        }
      ]
    },
    {
      "cell_type": "code",
      "metadata": {
        "colab": {
          "base_uri": "https://localhost:8080/"
        },
        "id": "j1UDWQHpqunW",
        "outputId": "1fa6539d-2584-4c82-cb07-ad1cb27f0ea6"
      },
      "source": [
        "print('---------------↓使用 copy()↓-----------------')\n",
        "arr1 = np.array([1, 2, 3, 4, 5])\n",
        "print('arr1:'+str(arr1))\n",
        "import copy\n",
        "arr2 = copy.deepcopy(arr1)\n",
        "arr2[0] = 100\n",
        "print('arr2:'+str(arr2))\n",
        "print('arr1:'+str(arr1))"
      ],
      "execution_count": null,
      "outputs": [
        {
          "output_type": "stream",
          "name": "stdout",
          "text": [
            "---------------↓使用 copy()↓-----------------\n",
            "arr1:[1 2 3 4 5]\n",
            "arr2:[100   2   3   4   5]\n",
            "arr1:[1 2 3 4 5]\n"
          ]
        }
      ]
    },
    {
      "cell_type": "code",
      "metadata": {
        "id": "i_FA8RRCJ7on"
      },
      "source": [],
      "execution_count": null,
      "outputs": []
    },
    {
      "cell_type": "markdown",
      "metadata": {
        "id": "KzkqzE7JqwlI"
      },
      "source": [
        "## M1-2-2\t 陣列的切片操作"
      ]
    },
    {
      "cell_type": "code",
      "metadata": {
        "colab": {
          "base_uri": "https://localhost:8080/"
        },
        "id": "FVFISXgAq0Ux",
        "outputId": "cecb168b-a2bd-4608-acbc-9639e3c0f706"
      },
      "source": [
        "import numpy as np\n",
        "arr = np.arange(10)\n",
        "print(arr)\n",
        "arr[0:3] = 1\n",
        "print(arr)"
      ],
      "execution_count": null,
      "outputs": [
        {
          "output_type": "stream",
          "name": "stdout",
          "text": [
            "[0 1 2 3 4 5 6 7 8 9]\n",
            "[1 1 1 3 4 5 6 7 8 9]\n"
          ]
        }
      ]
    },
    {
      "cell_type": "markdown",
      "metadata": {
        "id": "DeSs3noCq6DR"
      },
      "source": [
        "## M1-2-3\t 使用布林陣列篩選值"
      ]
    },
    {
      "cell_type": "code",
      "metadata": {
        "colab": {
          "base_uri": "https://localhost:8080/"
        },
        "id": "keERrIcOq4G1",
        "outputId": "d683c149-9211-49d1-f5be-56393d242b6b"
      },
      "source": [
        "import numpy as np\n",
        "arr = np.arange(10)\n",
        "new_arr = arr<5\n",
        "print(arr)\n",
        "print(new_arr)"
      ],
      "execution_count": null,
      "outputs": [
        {
          "output_type": "stream",
          "name": "stdout",
          "text": [
            "[0 1 2 3 4 5 6 7 8 9]\n",
            "[ True  True  True  True  True False False False False False]\n"
          ]
        }
      ]
    },
    {
      "cell_type": "code",
      "metadata": {
        "colab": {
          "base_uri": "https://localhost:8080/"
        },
        "id": "-ZfAA3nxrNqZ",
        "outputId": "38ba5bb0-8b34-4ba1-9e8a-8d372d32357a"
      },
      "source": [
        "print(arr[new_arr])"
      ],
      "execution_count": null,
      "outputs": [
        {
          "output_type": "stream",
          "name": "stdout",
          "text": [
            "[0 1 2 3 4]\n"
          ]
        }
      ]
    },
    {
      "cell_type": "markdown",
      "metadata": {
        "id": "KcCKS65QrPmK"
      },
      "source": [
        "## M1-2-4\t 陣列的四則計算 (test2)"
      ]
    },
    {
      "cell_type": "code",
      "metadata": {
        "colab": {
          "base_uri": "https://localhost:8080/"
        },
        "id": "fsNo4kTBrSjY",
        "outputId": "69fc3d32-ea55-4c8c-f08f-595b86f4536a"
      },
      "source": [
        "# 使用 Python 的 list\n",
        "storages = [1, 2, 3, 4]\n",
        "new_storages = []\n",
        "for n in storages:\n",
        "  n += n\n",
        "  new_storages.append(n)\n",
        "print(new_storages)"
      ],
      "execution_count": null,
      "outputs": [
        {
          "output_type": "stream",
          "name": "stdout",
          "text": [
            "[2, 4, 6, 8]\n"
          ]
        }
      ]
    },
    {
      "cell_type": "code",
      "metadata": {
        "colab": {
          "base_uri": "https://localhost:8080/"
        },
        "id": "zDE2cVqZrUQI",
        "outputId": "662ed89c-0582-41b7-d9c0-4a933375a307"
      },
      "source": [
        "# 使用 NumPy 陣列\n",
        "import numpy as np\n",
        "storages = np.array([1, 2, 3, 4])\n",
        "storages += storages\n",
        "print(storages)"
      ],
      "execution_count": null,
      "outputs": [
        {
          "output_type": "stream",
          "name": "stdout",
          "text": [
            "[2 4 6 8]\n"
          ]
        }
      ]
    },
    {
      "cell_type": "code",
      "metadata": {
        "colab": {
          "base_uri": "https://localhost:8080/"
        },
        "id": "8NvFln-arbNB",
        "outputId": "27f7e7b5-bec0-49e3-fd44-8ec1a45530bd"
      },
      "source": [
        "import numpy as np\n",
        "arr_1 = np.array([2, 4, 6, 8, 10])\n",
        "arr_2 = np.array([1, 3, 5, 7, 9])\n",
        "# arr + arr (相加)\n",
        "print('arr_1 + arr_2:')\n",
        "print(arr_1+arr_2)\n",
        "print('--------------------------')\n",
        "# arr - arr (相減)\n",
        "print('arr_1 - arr_2:')\n",
        "print(arr_1-arr_2)\n",
        "print('--------------------------')\n",
        "# arr ** 3 (三次方)\n",
        "print('arr_1 ** 3:')\n",
        "print(arr_1**3)\n",
        "print('--------------------------')\n",
        "# arr_1 / arr_2(相除)\n",
        "print('arr_1 / arr_2:')\n",
        "print(arr_1/arr_2)"
      ],
      "execution_count": null,
      "outputs": [
        {
          "output_type": "stream",
          "name": "stdout",
          "text": [
            "arr_1 + arr_2:\n",
            "[ 3  7 11 15 19]\n",
            "--------------------------\n",
            "arr_1 - arr_2:\n",
            "[1 1 1 1 1]\n",
            "--------------------------\n",
            "arr_1 ** 3:\n",
            "[   8   64  216  512 1000]\n",
            "--------------------------\n",
            "arr_1 / arr_2:\n",
            "[2.         1.33333333 1.2        1.14285714 1.11111111]\n"
          ]
        }
      ]
    },
    {
      "cell_type": "markdown",
      "metadata": {
        "id": "3wTDQvWCrh16"
      },
      "source": [
        "## M1-2-5\t 體驗好用的 NumPy 函式 (test3)"
      ]
    },
    {
      "cell_type": "code",
      "metadata": {
        "colab": {
          "base_uri": "https://localhost:8080/"
        },
        "id": "S1Vr4faHrm9M",
        "outputId": "2adf4a91-39f3-4216-b87e-d4e295a88628"
      },
      "source": [
        "import numpy as np\n",
        "arr = np.array([4, -9, 16, -4, 20])\n",
        "print(arr)\n",
        "arr_abs = np.abs(arr)\n",
        "print('絕對值:',arr_abs)\n",
        "arr_exp = np.exp(arr)\n",
        "print('e為底數:',arr_exp)\n",
        "arr_sprt = np.sqrt(arr_abs)\n",
        "print('平方根:',arr_sprt)"
      ],
      "execution_count": null,
      "outputs": [
        {
          "output_type": "stream",
          "name": "stdout",
          "text": [
            "[ 4 -9 16 -4 20]\n",
            "絕對值: [ 4  9 16  4 20]\n",
            "e為底數: [5.45981500e+01 1.23409804e-04 8.88611052e+06 1.83156389e-02\n",
            " 4.85165195e+08]\n",
            "平方根: [2.         3.         4.         2.         4.47213595]\n"
          ]
        }
      ]
    },
    {
      "cell_type": "code",
      "metadata": {
        "colab": {
          "base_uri": "https://localhost:8080/"
        },
        "id": "I0fdt6p-rsYC",
        "outputId": "7cb7ed9e-65a7-4779-e763-24fd9dd304c0"
      },
      "source": [
        "import numpy as np\n",
        "arr1 = np.array([2, 5, 7, 9, 5, 2])\n",
        "arr2 = np.array([2, 5, 8, 3, 1])\n",
        "arr_unique = np.unique(arr1)\n",
        "print('剔除arr1重複元素:',arr_unique)\n",
        "arr_union = np.union1d(arr1,arr2)\n",
        "print('聯集:',arr_union)\n",
        "arr_intersect = np.intersect1d(arr1,arr2)\n",
        "print('交集:',arr_intersect)\n",
        "arr_diffset = np.setdiff1d(arr1,arr2)\n",
        "print('差集:',arr_diffset)"
      ],
      "execution_count": null,
      "outputs": [
        {
          "output_type": "stream",
          "name": "stdout",
          "text": [
            "剔除arr1重複元素: [2 5 7 9]\n",
            "聯集: [1 2 3 5 7 8 9]\n",
            "交集: [2 5]\n",
            "差集: [7 9]\n"
          ]
        }
      ]
    },
    {
      "cell_type": "markdown",
      "metadata": {
        "id": "AiTNgHeVc0qV"
      },
      "source": [
        "# M1-3 NumPy 多軸陣列"
      ]
    },
    {
      "cell_type": "markdown",
      "metadata": {
        "id": "uYiMLEJ8rzHZ"
      },
      "source": [
        "## M1-3-1\t 陣列的軸 (test4)"
      ]
    },
    {
      "cell_type": "code",
      "metadata": {
        "colab": {
          "base_uri": "https://localhost:8080/"
        },
        "id": "DjOArAKmry4A",
        "outputId": "c18d93a1-83aa-4e2a-a304-98dc11e37a74"
      },
      "source": [
        "arr = np.array([ [1, 2 ,3],\n",
        "[4, 5, 6]])\n",
        "print(arr.sum())\n",
        "print(arr.sum(axis=0))\n",
        "print(arr.sum(axis=1))"
      ],
      "execution_count": null,
      "outputs": [
        {
          "output_type": "stream",
          "name": "stdout",
          "text": [
            "21\n",
            "[5 7 9]\n",
            "[ 6 15]\n"
          ]
        }
      ]
    },
    {
      "cell_type": "code",
      "metadata": {
        "colab": {
          "base_uri": "https://localhost:8080/"
        },
        "id": "K13uWMvhr2xZ",
        "outputId": "a59ebfaf-4f4d-4cb9-dcb9-bd1ef06406ef"
      },
      "source": [
        "import numpy as np\n",
        "arr = np.array([[[0,1,2],[3,4,5]],[[6,7,8],[9,10,11]]])\n",
        "print(arr.sum())\n",
        "print(arr)"
      ],
      "execution_count": null,
      "outputs": [
        {
          "output_type": "stream",
          "name": "stdout",
          "text": [
            "66\n",
            "[[[ 0  1  2]\n",
            "  [ 3  4  5]]\n",
            "\n",
            " [[ 6  7  8]\n",
            "  [ 9 10 11]]]\n"
          ]
        }
      ]
    },
    {
      "cell_type": "code",
      "metadata": {
        "colab": {
          "base_uri": "https://localhost:8080/"
        },
        "id": "SAGGEm1tr6og",
        "outputId": "b8c14363-75d6-4e34-f596-e24a72dd35a8"
      },
      "source": [
        "print(arr.sum(axis=0))"
      ],
      "execution_count": null,
      "outputs": [
        {
          "output_type": "stream",
          "name": "stdout",
          "text": [
            "[[ 6  8 10]\n",
            " [12 14 16]]\n"
          ]
        }
      ]
    },
    {
      "cell_type": "code",
      "metadata": {
        "colab": {
          "base_uri": "https://localhost:8080/"
        },
        "id": "OXzqWiAvr8_J",
        "outputId": "7ff618da-91c9-4542-cd4e-1256c04867ea"
      },
      "source": [
        "print(arr.sum(axis=1))"
      ],
      "execution_count": null,
      "outputs": [
        {
          "output_type": "stream",
          "name": "stdout",
          "text": [
            "[[ 3  5  7]\n",
            " [15 17 19]]\n"
          ]
        }
      ]
    },
    {
      "cell_type": "code",
      "metadata": {
        "colab": {
          "base_uri": "https://localhost:8080/"
        },
        "id": "UR8Pu8zvr-x4",
        "outputId": "7cc9f9e3-6027-4105-8329-d05f22e975f7"
      },
      "source": [
        "print(arr.sum(axis=2))"
      ],
      "execution_count": null,
      "outputs": [
        {
          "output_type": "stream",
          "name": "stdout",
          "text": [
            "[[ 3 12]\n",
            " [21 30]]\n"
          ]
        }
      ]
    },
    {
      "cell_type": "markdown",
      "metadata": {
        "id": "-F1SQcFOsDoi"
      },
      "source": [
        "## M1-3-2\t 陣列的 shape"
      ]
    },
    {
      "cell_type": "code",
      "metadata": {
        "colab": {
          "base_uri": "https://localhost:8080/"
        },
        "id": "GMl3Um2XsJkw",
        "outputId": "10655ac1-6774-4b20-b498-d4f8d6acc420"
      },
      "source": [
        "import numpy as np\n",
        "arr = np.array([[1, 2, 3, 4],\n",
        "[5, 6, 7, 8]])\n",
        "print('原 shape 為:',arr.shape)\n",
        "print(arr.reshape(4, 2))"
      ],
      "execution_count": null,
      "outputs": [
        {
          "output_type": "stream",
          "name": "stdout",
          "text": [
            "原 shape 為: (2, 4)\n",
            "[[1 2]\n",
            " [3 4]\n",
            " [5 6]\n",
            " [7 8]]\n"
          ]
        }
      ]
    },
    {
      "cell_type": "markdown",
      "metadata": {
        "id": "FZzvKqF1sMtx"
      },
      "source": [
        "## M1-3-3 多軸陣列的切片做法"
      ]
    },
    {
      "cell_type": "code",
      "metadata": {
        "colab": {
          "base_uri": "https://localhost:8080/"
        },
        "id": "wRrSrKcwsJ6I",
        "outputId": "626425b4-c746-4e67-99a6-6eec77f922b0"
      },
      "source": [
        "arr = np.array([[1, 2 ,3],\n",
        "[4, 5, 6]])\n",
        "print(arr[1])"
      ],
      "execution_count": null,
      "outputs": [
        {
          "output_type": "stream",
          "name": "stdout",
          "text": [
            "[4 5 6]\n"
          ]
        }
      ]
    },
    {
      "cell_type": "code",
      "metadata": {
        "colab": {
          "base_uri": "https://localhost:8080/"
        },
        "id": "1araY0eGsQop",
        "outputId": "f2bdcec4-e442-4a6b-92ea-5f6850b25e18"
      },
      "source": [
        "arr = np.array([[1, 2 ,3],\n",
        "[4, 5, 6]])\n",
        "print(arr[1][2])"
      ],
      "execution_count": null,
      "outputs": [
        {
          "output_type": "stream",
          "name": "stdout",
          "text": [
            "6\n"
          ]
        }
      ]
    },
    {
      "cell_type": "code",
      "metadata": {
        "colab": {
          "base_uri": "https://localhost:8080/"
        },
        "id": "P2m0o2K8sSlp",
        "outputId": "a8e6156a-6105-406b-a7da-564721abddec"
      },
      "source": [
        "import numpy as np\n",
        "arr = np.array([[1, 2 ,3],\n",
        "[4, 5, 6]])\n",
        "print(arr[1,1:])"
      ],
      "execution_count": null,
      "outputs": [
        {
          "output_type": "stream",
          "name": "stdout",
          "text": [
            "[5 6]\n"
          ]
        }
      ]
    },
    {
      "cell_type": "code",
      "metadata": {
        "colab": {
          "base_uri": "https://localhost:8080/"
        },
        "id": "i_seprE6sYeZ",
        "outputId": "9ed9a8b7-905d-40f9-e23d-59064eb85173"
      },
      "source": [
        "arr = np.array([[1, 2], [3, 4], [5, 6], [7, 8]])\n",
        "print(arr[[3, 2, 0]])"
      ],
      "execution_count": null,
      "outputs": [
        {
          "output_type": "stream",
          "name": "stdout",
          "text": [
            "[[7 8]\n",
            " [5 6]\n",
            " [1 2]]\n"
          ]
        }
      ]
    },
    {
      "cell_type": "markdown",
      "metadata": {
        "id": "YqjfVV6IscKH"
      },
      "source": [
        "## M1-3-4\t 陣列轉置"
      ]
    },
    {
      "cell_type": "code",
      "metadata": {
        "colab": {
          "base_uri": "https://localhost:8080/"
        },
        "id": "xM8_frSNsfZK",
        "outputId": "db1391b5-948c-40d3-aa71-0881b8d51719"
      },
      "source": [
        "import numpy as np\n",
        "arr = np.arange(10).reshape(2, 5)\n",
        "print(arr)\n",
        "print(arr.T)\n",
        "print(arr.transpose(1,0))"
      ],
      "execution_count": null,
      "outputs": [
        {
          "output_type": "stream",
          "name": "stdout",
          "text": [
            "[[0 1 2 3 4]\n",
            " [5 6 7 8 9]]\n",
            "[[0 5]\n",
            " [1 6]\n",
            " [2 7]\n",
            " [3 8]\n",
            " [4 9]]\n",
            "[[0 5]\n",
            " [1 6]\n",
            " [2 7]\n",
            " [3 8]\n",
            " [4 9]]\n"
          ]
        }
      ]
    },
    {
      "cell_type": "markdown",
      "metadata": {
        "id": "v_6y1Bn9sjHh"
      },
      "source": [
        "## M1-3-5\t 陣列排序 (test5)"
      ]
    },
    {
      "cell_type": "code",
      "metadata": {
        "colab": {
          "base_uri": "https://localhost:8080/"
        },
        "id": "T1fEUIygsaPJ",
        "outputId": "f117301b-eb2c-4227-f30d-4967ef887dea"
      },
      "source": [
        "import numpy as np\n",
        "arr = np.array([[8, 4, 2],\n",
        "[3, 5, 1]])\n",
        "print('---------------原陣列----------------')\n",
        "print(arr)\n",
        "print('----------對 arr 以軸 1 方向排序---------')\n",
        "print(np.sort(arr,axis=1))\n",
        "print('----------對 arr 以軸 0 方向排序---------')\n",
        "print(np.sort(arr,axis=0))"
      ],
      "execution_count": null,
      "outputs": [
        {
          "output_type": "stream",
          "name": "stdout",
          "text": [
            "---------------原陣列----------------\n",
            "[[8 4 2]\n",
            " [3 5 1]]\n",
            "----------對 arr 以軸 1 方向排序---------\n",
            "[[2 4 8]\n",
            " [1 3 5]]\n",
            "----------對 arr 以軸 0 方向排序---------\n",
            "[[3 4 1]\n",
            " [8 5 2]]\n"
          ]
        }
      ]
    },
    {
      "cell_type": "code",
      "metadata": {
        "colab": {
          "base_uri": "https://localhost:8080/"
        },
        "id": "WIIwNKqksnap",
        "outputId": "74e706d9-14bb-441a-a541-4445c4f2bf97"
      },
      "source": [
        "import numpy as np\n",
        "arr = np.array([[8, 4, 2],\n",
        "[3, 5, 1]])\n",
        "print('-------------argsort排序-------------')\n",
        "print(arr)\n",
        "print(np.sort(arr))\n",
        "print(arr.argsort())"
      ],
      "execution_count": null,
      "outputs": [
        {
          "output_type": "stream",
          "name": "stdout",
          "text": [
            "-------------argsort排序-------------\n",
            "[[8 4 2]\n",
            " [3 5 1]]\n",
            "[[2 4 8]\n",
            " [1 3 5]]\n",
            "[[2 1 0]\n",
            " [2 0 1]]\n"
          ]
        }
      ]
    },
    {
      "cell_type": "markdown",
      "metadata": {
        "id": "i_quE9zzsr6B"
      },
      "source": [
        "## M1-3-6\t 陣列擴張"
      ]
    },
    {
      "cell_type": "code",
      "metadata": {
        "colab": {
          "base_uri": "https://localhost:8080/"
        },
        "id": "ClZ3AHgdsplo",
        "outputId": "6f80e914-171a-4882-b69c-aa2e81104b01"
      },
      "source": [
        "import numpy as np\n",
        "x = np.arange(15).reshape(3, 5)\n",
        "print(x)\n",
        "print(\"------------------\")\n",
        "y = np.array([np.arange(5)])\n",
        "print(y)\n",
        "print(\"------------------\")\n",
        "z = x - y\n",
        "print(z)"
      ],
      "execution_count": null,
      "outputs": [
        {
          "output_type": "stream",
          "name": "stdout",
          "text": [
            "[[ 0  1  2  3  4]\n",
            " [ 5  6  7  8  9]\n",
            " [10 11 12 13 14]]\n",
            "------------------\n",
            "[[0 1 2 3 4]]\n",
            "------------------\n",
            "[[ 0  0  0  0  0]\n",
            " [ 5  5  5  5  5]\n",
            " [10 10 10 10 10]]\n"
          ]
        }
      ]
    },
    {
      "cell_type": "markdown",
      "metadata": {
        "id": "kf11ERm_sx2a"
      },
      "source": [
        "## M1-3-7\t 用 NumPy 函式計算矩陣乘積"
      ]
    },
    {
      "cell_type": "code",
      "metadata": {
        "colab": {
          "base_uri": "https://localhost:8080/"
        },
        "id": "7oP9oY4VsvL4",
        "outputId": "c2121bc2-9fbc-40b0-902f-80908e007508"
      },
      "source": [
        "import numpy as np\n",
        "arr = np.arange(9).reshape(3, 3)\n",
        "print(np.dot(arr, arr))"
      ],
      "execution_count": null,
      "outputs": [
        {
          "output_type": "stream",
          "name": "stdout",
          "text": [
            "[[ 15  18  21]\n",
            " [ 42  54  66]\n",
            " [ 69  90 111]]\n"
          ]
        }
      ]
    }
  ]
}