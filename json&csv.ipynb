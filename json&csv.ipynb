{
  "nbformat": 4,
  "nbformat_minor": 0,
  "metadata": {
    "colab": {
      "provenance": []
    },
    "kernelspec": {
      "name": "python3",
      "display_name": "Python 3"
    },
    "language_info": {
      "name": "python"
    }
  },
  "cells": [
    {
      "cell_type": "code",
      "source": [
        "import json"
      ],
      "metadata": {
        "id": "eE2zO5tKzC11"
      },
      "execution_count": null,
      "outputs": []
    },
    {
      "cell_type": "code",
      "source": [
        "data = [{'a':1, 'b':2, 'c':3, 'd':4, 'e':5}]\n",
        "jsondata = json.dumps(data,sort_keys=True)\n",
        "print(jsondata)\n",
        "jsondata = json.dumps(data,sort_keys=True,indent=3)\n",
        "print(jsondata)\n",
        "print(type(jsondata))"
      ],
      "metadata": {
        "colab": {
          "base_uri": "https://localhost:8080/"
        },
        "id": "_MAgm460xTES",
        "outputId": "3d5d5986-c026-4ed4-9232-f04870276d87"
      },
      "execution_count": null,
      "outputs": [
        {
          "output_type": "stream",
          "name": "stdout",
          "text": [
            "[{\"a\": 1, \"b\": 2, \"c\": 3, \"d\": 4, \"e\": 5}]\n",
            "[\n",
            "   {\n",
            "      \"a\": 1,\n",
            "      \"b\": 2,\n",
            "      \"c\": 3,\n",
            "      \"d\": 4,\n",
            "      \"e\": 5\n",
            "   }\n",
            "]\n",
            "<class 'str'>\n"
          ]
        }
      ]
    },
    {
      "cell_type": "code",
      "source": [
        "fn = 'populations.json'\n",
        "with open(fn,'r')as fnobj:\n",
        "  data = json.load(fnobj)\n",
        "  i = 0\n",
        "  while i < len(data):\n",
        "    if data[i]['Year']=='2000':\n",
        "      print(\"國家代碼 = {:5} 國家名稱 = {:30} 人口數 = {:}\".format(data[i][\"Country Code\"], data[i][\"Country Name\"], int(float(data[i][\"Numbers\"]))))\n",
        "    i += 1"
      ],
      "metadata": {
        "colab": {
          "base_uri": "https://localhost:8080/"
        },
        "id": "Tlk1cISKxTAC",
        "outputId": "3aa886bd-f9cc-4771-a19e-64504c91b303"
      },
      "execution_count": null,
      "outputs": [
        {
          "output_type": "stream",
          "name": "stdout",
          "text": [
            "國家代碼 = WLD   國家名稱 = World                          人口數 = 6117806174\n",
            "國家代碼 = AFG   國家名稱 = Afghanistan                    人口數 = 25951672\n",
            "國家代碼 = ALB   國家名稱 = Albania                        人口數 = 3072478\n",
            "國家代碼 = DZA   國家名稱 = Algeria                        人口數 = 30534041\n",
            "國家代碼 = ASM   國家名稱 = American Samoa                 人口數 = 57995\n",
            "國家代碼 = AND   國家名稱 = Andorra                        人口數 = 65258\n",
            "國家代碼 = AGO   國家名稱 = Angola                         人口數 = 13926705\n",
            "國家代碼 = ATG   國家名稱 = Antigua and Barbuda            人口數 = 78536\n",
            "國家代碼 = ARG   國家名稱 = Argentina                      人口數 = 36931013\n",
            "國家代碼 = ARM   國家名稱 = Armenia                        人口數 = 3076653\n",
            "國家代碼 = ABW   國家名稱 = Aruba                          人口數 = 91031\n",
            "國家代碼 = AUS   國家名稱 = Australia                      人口數 = 19153581\n",
            "國家代碼 = AUT   國家名稱 = Austria                        人口數 = 8012068\n",
            "國家代碼 = AZE   國家名稱 = Azerbaijan                     人口數 = 8048754\n",
            "國家代碼 = BHS   國家名稱 = Bahamas, The                   人口數 = 297992\n",
            "國家代碼 = BHR   國家名稱 = Bahrain                        人口數 = 638335\n",
            "國家代碼 = BGD   國家名稱 = Bangladesh                     人口數 = 129592417\n",
            "國家代碼 = BRB   國家名稱 = Barbados                       人口數 = 268357\n",
            "國家代碼 = BLR   國家名稱 = Belarus                        人口數 = 10005803\n",
            "國家代碼 = BEL   國家名稱 = Belgium                        人口數 = 10251906\n",
            "國家代碼 = BLZ   國家名稱 = Belize                         人口數 = 250079\n",
            "國家代碼 = BEN   國家名稱 = Benin                          人口數 = 6518442\n",
            "國家代碼 = BMU   國家名稱 = Bermuda                        人口數 = 62771\n",
            "國家代碼 = BTN   國家名稱 = Bhutan                         人口數 = 572150\n",
            "國家代碼 = BOL   國家名稱 = Bolivia                        人口數 = 8308106\n",
            "國家代碼 = BIH   國家名稱 = Bosnia and Herzegovina         人口數 = 3694221\n",
            "國家代碼 = BWA   國家名稱 = Botswana                       人口數 = 1758101\n",
            "國家代碼 = BRA   國家名稱 = Brazil                         人口數 = 174425502\n",
            "國家代碼 = BRN   國家名稱 = Brunei Darussalam              人口數 = 327173\n",
            "國家代碼 = BGR   國家名稱 = Bulgaria                       人口數 = 8170923\n",
            "國家代碼 = BFA   國家名稱 = Burkina Faso                   人口數 = 12294582\n",
            "國家代碼 = BDI   國家名稱 = Burundi                        人口數 = 6375154\n",
            "國家代碼 = KHM   國家名稱 = Cambodia                       人口數 = 12447158\n",
            "國家代碼 = CMR   國家名稱 = Cameroon                       人口數 = 15678792\n",
            "國家代碼 = CAN   國家名稱 = Canada                         人口數 = 30770661\n",
            "國家代碼 = CPV   國家名稱 = Cape Verde                     人口數 = 438098\n",
            "國家代碼 = CYM   國家名稱 = Cayman Islands                 人口數 = 40373\n",
            "國家代碼 = CAF   國家名稱 = Central African Republic       人口數 = 3701785\n",
            "國家代碼 = TCD   國家名稱 = Chad                           人口數 = 8223089\n",
            "國家代碼 = CHI   國家名稱 = Channel Islands                人口數 = 145899\n",
            "國家代碼 = CHL   國家名稱 = Chile                          人口數 = 15420422\n",
            "國家代碼 = CHN   國家名稱 = China                          人口數 = 1262645259\n",
            "國家代碼 = COL   國家名稱 = Colombia                       人口數 = 39764430\n",
            "國家代碼 = COM   國家名稱 = Comoros                        人口數 = 563155\n",
            "國家代碼 = COD   國家名稱 = Congo, Dem. Rep.               人口數 = 49626496\n",
            "國家代碼 = COG   國家名稱 = Congo, Rep.                    人口數 = 3136743\n",
            "國家代碼 = CRI   國家名稱 = Costa Rica                     人口數 = 3919918\n",
            "國家代碼 = CIV   國家名稱 = Cote d'Ivoire                  人口數 = 16581844\n",
            "國家代碼 = HRV   國家名稱 = Croatia                        人口數 = 4426628\n",
            "國家代碼 = CUB   國家名稱 = Cuba                           人口數 = 11104631\n",
            "國家代碼 = CUW   國家名稱 = Curacao                        人口數 = 133982\n",
            "國家代碼 = CYP   國家名稱 = Cyprus                         人口數 = 943448\n",
            "國家代碼 = CZE   國家名稱 = Czech Republic                 人口數 = 10272763\n",
            "國家代碼 = DNK   國家名稱 = Denmark                        人口數 = 5340588\n",
            "國家代碼 = DJI   國家名稱 = Djibouti                       人口數 = 732112\n",
            "國家代碼 = DMA   國家名稱 = Dominica                       人口數 = 70263\n",
            "國家代碼 = DOM   國家名稱 = Dominican Republic             人口數 = 8592212\n",
            "國家代碼 = ECU   國家名稱 = Ecuador                        人口數 = 12345909\n",
            "國家代碼 = EGY   國家名稱 = Egypt, Arab Rep.               人口數 = 67649043\n",
            "國家代碼 = SLV   國家名稱 = El Salvador                    人口數 = 5941239\n",
            "國家代碼 = GNQ   國家名稱 = Equatorial Guinea              人口數 = 520913\n",
            "國家代碼 = ERI   國家名稱 = Eritrea                        人口數 = 3668389\n",
            "國家代碼 = EST   國家名稱 = Estonia                        人口數 = 1369762\n",
            "國家代碼 = ETH   國家名稱 = Ethiopia                       人口數 = 65578657\n",
            "國家代碼 = FRO   國家名稱 = Faeroe Islands                 人口數 = 46468\n",
            "國家代碼 = FJI   國家名稱 = Fiji                           人口數 = 812309\n",
            "國家代碼 = FIN   國家名稱 = Finland                        人口數 = 5176366\n",
            "國家代碼 = FRA   國家名稱 = France                         人口數 = 60762406\n",
            "國家代碼 = PYF   國家名稱 = French Polynesia               人口數 = 237952\n",
            "國家代碼 = GAB   國家名稱 = Gabon                          人口數 = 1235699\n",
            "國家代碼 = GMB   國家名稱 = Gambia, The                    人口數 = 1297212\n",
            "國家代碼 = GEO   國家名稱 = Georgia                        人口數 = 4419141\n",
            "國家代碼 = DEU   國家名稱 = Germany                        人口數 = 82211675\n",
            "國家代碼 = GHA   國家名稱 = Ghana                          人口數 = 19165661\n",
            "國家代碼 = GIB   國家名稱 = Gibraltar                      人口數 = 28079\n",
            "國家代碼 = GRC   國家名稱 = Greece                         人口數 = 10918108\n",
            "國家代碼 = GRL   國家名稱 = Greenland                      人口數 = 56375\n",
            "國家代碼 = GRD   國家名稱 = Grenada                        人口數 = 101656\n",
            "國家代碼 = GUM   國家名稱 = Guam                           人口數 = 156090\n",
            "國家代碼 = GTM   國家名稱 = Guatemala                      人口數 = 11237643\n",
            "國家代碼 = GIN   國家名稱 = Guinea                         人口數 = 8344849\n",
            "國家代碼 = GNB   國家名稱 = Guinea-Bissau                  人口數 = 1240813\n",
            "國家代碼 = GUY   國家名稱 = Guyana                         人口數 = 733663\n",
            "國家代碼 = HTI   國家名稱 = Haiti                          人口數 = 8645852\n",
            "國家代碼 = HND   國家名稱 = Honduras                       人口數 = 6219074\n",
            "國家代碼 = HKG   國家名稱 = Hong Kong SAR, China           人口數 = 6665728\n",
            "國家代碼 = HUN   國家名稱 = Hungary                        人口數 = 10211157\n",
            "國家代碼 = ISL   國家名稱 = Iceland                        人口數 = 281984\n",
            "國家代碼 = IND   國家名稱 = India                          人口數 = 1053898751\n",
            "國家代碼 = IDN   國家名稱 = Indonesia                      人口數 = 213396246\n",
            "國家代碼 = IRN   國家名稱 = Iran, Islamic Rep.             人口數 = 65343049\n",
            "國家代碼 = IRQ   國家名稱 = Iraq                           人口數 = 24314245\n",
            "國家代碼 = IRL   國家名稱 = Ireland                        人口數 = 3805338\n",
            "國家代碼 = IMN   國家名稱 = Isle of Man                    人口數 = 77351\n",
            "國家代碼 = ISR   國家名稱 = Israel                         人口數 = 6289445\n",
            "國家代碼 = ITA   國家名稱 = Italy                          人口數 = 56943070\n",
            "國家代碼 = JAM   國家名稱 = Jamaica                        人口數 = 2589608\n",
            "國家代碼 = JPN   國家名稱 = Japan                          人口數 = 126870782\n",
            "國家代碼 = JOR   國家名稱 = Jordan                         人口數 = 4798164\n",
            "國家代碼 = KAZ   國家名稱 = Kazakhstan                     人口數 = 14884473\n",
            "國家代碼 = KEN   國家名稱 = Kenya                          人口數 = 31254620\n",
            "國家代碼 = KIR   國家名稱 = Kiribati                       人口數 = 84914\n",
            "國家代碼 = PRK   國家名稱 = Korea, Dem. Rep.               人口數 = 22894724\n",
            "國家代碼 = KOR   國家名稱 = Korea, Rep.                    人口數 = 47008780\n",
            "國家代碼 = KSV   國家名稱 = Kosovo                         人口數 = 1700780\n",
            "國家代碼 = KWT   國家名稱 = Kuwait                         人口數 = 1941670\n",
            "國家代碼 = KGZ   國家名稱 = Kyrgyz Republic                人口數 = 4898663\n",
            "國家代碼 = LAO   國家名稱 = Lao PDR                        人口數 = 5317733\n",
            "國家代碼 = LVA   國家名稱 = Latvia                         人口數 = 2373416\n",
            "國家代碼 = LBN   國家名稱 = Lebanon                        人口數 = 3742940\n",
            "國家代碼 = LSO   國家名稱 = Lesotho                        人口數 = 1964503\n",
            "國家代碼 = LBR   國家名稱 = Liberia                        人口數 = 2847730\n",
            "國家代碼 = LBY   國家名稱 = Libya                          人口數 = 5231650\n",
            "國家代碼 = LIE   國家名稱 = Liechtenstein                  人口數 = 33620\n",
            "國家代碼 = LTU   國家名稱 = Lithuania                      人口數 = 3500286\n",
            "國家代碼 = LUX   國家名稱 = Luxembourg                     人口數 = 437089\n",
            "國家代碼 = MAC   國家名稱 = Macao SAR, China               人口數 = 432346\n",
            "國家代碼 = MKD   國家名稱 = Macedonia, FYR                 人口數 = 2009545\n",
            "國家代碼 = MDG   國家名稱 = Madagascar                     人口數 = 15364449\n",
            "國家代碼 = MWI   國家名稱 = Malawi                         人口數 = 11229217\n",
            "國家代碼 = MYS   國家名稱 = Malaysia                       人口數 = 23415266\n",
            "國家代碼 = MDV   國家名稱 = Maldives                       人口數 = 273507\n",
            "國家代碼 = MLI   國家名稱 = Mali                           人口數 = 11295585\n",
            "國家代碼 = MLT   國家名稱 = Malta                          人口數 = 381720\n",
            "國家代碼 = MHL   國家名稱 = Marshall Islands               人口數 = 52970\n",
            "國家代碼 = MRT   國家名稱 = Mauritania                     人口數 = 2642887\n",
            "國家代碼 = MUS   國家名稱 = Mauritius                      人口數 = 1187475\n",
            "國家代碼 = MYT   國家名稱 = Mayotte                        人口數 = 149477\n",
            "國家代碼 = MEX   國家名稱 = Mexico                         人口數 = 99959895\n",
            "國家代碼 = FSM   國家名稱 = Micronesia, Fed. Sts.          人口數 = 107402\n",
            "國家代碼 = MDA   國家名稱 = Moldova                        人口數 = 3640281\n",
            "國家代碼 = MCO   國家名稱 = Monaco                         人口數 = 35929\n",
            "國家代碼 = MNG   國家名稱 = Mongolia                       人口數 = 2412108\n",
            "國家代碼 = MNE   國家名稱 = Montenegro                     人口數 = 632987\n",
            "國家代碼 = MAR   國家名稱 = Morocco                        人口數 = 28793634\n",
            "國家代碼 = MOZ   國家名稱 = Mozambique                     人口數 = 18200988\n",
            "國家代碼 = MMR   國家名稱 = Myanmar                        人口數 = 44958016\n",
            "國家代碼 = NAM   國家名稱 = Namibia                        人口數 = 1896257\n",
            "國家代碼 = NPL   國家名稱 = Nepal                          人口數 = 24401577\n",
            "國家代碼 = NLD   國家名稱 = Netherlands                    人口數 = 15926038\n",
            "國家代碼 = NCL   國家名稱 = New Caledonia                  人口數 = 214190\n",
            "國家代碼 = NZL   國家名稱 = New Zealand                    人口數 = 3858249\n",
            "國家代碼 = NIC   國家名稱 = Nicaragua                      人口數 = 5074236\n",
            "國家代碼 = NER   國家名稱 = Niger                          人口數 = 10922726\n",
            "國家代碼 = NGA   國家名稱 = Nigeria                        人口數 = 123688953\n",
            "國家代碼 = MNP   國家名稱 = Northern Mariana Islands       人口數 = 68800\n",
            "國家代碼 = NOR   國家名稱 = Norway                         人口數 = 4491509\n",
            "國家代碼 = OMN   國家名稱 = Oman                           人口數 = 2264813\n",
            "國家代碼 = PAK   國家名稱 = Pakistan                       人口數 = 144522872\n",
            "國家代碼 = PLW   國家名稱 = Palau                          人口數 = 19943\n",
            "國家代碼 = PAN   國家名稱 = Panama                         人口數 = 2957114\n",
            "國家代碼 = PNG   國家名稱 = Papua New Guinea               人口數 = 5379566\n",
            "國家代碼 = PRY   國家名稱 = Paraguay                       人口數 = 5343756\n",
            "國家代碼 = PER   國家名稱 = Peru                           人口數 = 25862636\n",
            "國家代碼 = PHL   國家名稱 = Philippines                    人口數 = 77310782\n",
            "國家代碼 = POL   國家名稱 = Poland                         人口數 = 38453975\n",
            "國家代碼 = PRT   國家名稱 = Portugal                       人口數 = 10225968\n",
            "國家代碼 = PRI   國家名稱 = Puerto Rico                    人口數 = 3814884\n",
            "國家代碼 = QAT   國家名稱 = Qatar                          人口數 = 591389\n",
            "國家代碼 = ROU   國家名稱 = Romania                        人口數 = 22443320\n",
            "國家代碼 = RUS   國家名稱 = Russian Federation             人口數 = 146303811\n",
            "國家代碼 = RWA   國家名稱 = Rwanda                         人口數 = 8098890\n",
            "國家代碼 = WSM   國家名稱 = Samoa                          人口數 = 176689\n",
            "國家代碼 = SMR   國家名稱 = San Marino                     人口數 = 27590\n",
            "國家代碼 = STP   國家名稱 = Sao Tome and Principe          人口數 = 141942\n",
            "國家代碼 = SAU   國家名稱 = Saudi Arabia                   人口數 = 20045733\n",
            "國家代碼 = SEN   國家名稱 = Senegal                        人口數 = 9506591\n",
            "國家代碼 = SRB   國家名稱 = Serbia                         人口數 = 7516980\n",
            "國家代碼 = SYC   國家名稱 = Seychelles                     人口數 = 82004\n",
            "國家代碼 = SLE   國家名稱 = Sierra Leone                   人口數 = 4143622\n",
            "國家代碼 = SGP   國家名稱 = Singapore                      人口數 = 4028800\n",
            "國家代碼 = SXM   國家名稱 = Sint Maarten (Dutch part)      人口數 = 31249\n",
            "國家代碼 = SVK   國家名稱 = Slovak Republic                人口數 = 5389105\n",
            "國家代碼 = SVN   國家名稱 = Slovenia                       人口數 = 1989743\n",
            "國家代碼 = SLB   國家名稱 = Solomon Islands                人口數 = 409231\n",
            "國家代碼 = SOM   國家名稱 = Somalia                        人口數 = 7399776\n",
            "國家代碼 = ZAF   國家名稱 = South Africa                   人口數 = 44000833\n",
            "國家代碼 = ESP   國家名稱 = Spain                          人口數 = 40263871\n",
            "國家代碼 = LKA   國家名稱 = Sri Lanka                      人口數 = 18745256\n",
            "國家代碼 = KNA   國家名稱 = St. Kitts and Nevis            人口數 = 44944\n",
            "國家代碼 = LCA   國家名稱 = St. Lucia                      人口數 = 156226\n",
            "國家代碼 = MAF   國家名稱 = St. Martin (French part)       人口數 = 28768\n",
            "國家代碼 = VCT   國家名稱 = St. Vincent and the Grenadines 人口數 = 108878\n",
            "國家代碼 = SDN   國家名稱 = Sudan                          人口數 = 34188122\n",
            "國家代碼 = SUR   國家名稱 = Suriname                       人口數 = 467268\n",
            "國家代碼 = SWZ   國家名稱 = Swaziland                      人口數 = 1011781\n",
            "國家代碼 = SWE   國家名稱 = Sweden                         人口數 = 8873025\n",
            "國家代碼 = CHE   國家名稱 = Switzerland                    人口數 = 7184798\n",
            "國家代碼 = SYR   國家名稱 = Syrian Arab Republic           人口數 = 15988911\n",
            "國家代碼 = TJK   國家名稱 = Tajikistan                     人口數 = 6173449\n",
            "國家代碼 = TZA   國家名稱 = Tanzania                       人口數 = 34038511\n",
            "國家代碼 = THA   國家名稱 = Thailand                       人口數 = 63155209\n",
            "國家代碼 = TLS   國家名稱 = Timor-Leste                    人口數 = 830399\n",
            "國家代碼 = TGO   國家名稱 = Togo                           人口數 = 4793851\n",
            "國家代碼 = TON   國家名稱 = Tonga                          人口數 = 98509\n",
            "國家代碼 = TTO   國家名稱 = Trinidad and Tobago            人口數 = 1292853\n",
            "國家代碼 = TUN   國家名稱 = Tunisia                        人口數 = 9563731\n",
            "國家代碼 = TUR   國家名稱 = Turkey                         人口數 = 63628548\n",
            "國家代碼 = TKM   國家名稱 = Turkmenistan                   人口數 = 4502033\n",
            "國家代碼 = TCA   國家名稱 = Turks and Caicos Islands       人口數 = 19538\n",
            "國家代碼 = TUV   國家名稱 = Tuvalu                         人口數 = 9669\n",
            "國家代碼 = UGA   國家名稱 = Uganda                         人口數 = 24213638\n",
            "國家代碼 = UKR   國家名稱 = Ukraine                        人口數 = 49176685\n",
            "國家代碼 = ARE   國家名稱 = United Arab Emirates           人口數 = 3034035\n",
            "國家代碼 = GBR   國家名稱 = United Kingdom                 人口數 = 58893073\n",
            "國家代碼 = USA   國家名稱 = United States                  人口數 = 282162848\n",
            "國家代碼 = URY   國家名稱 = Uruguay                        人口數 = 3301552\n",
            "國家代碼 = UZB   國家名稱 = Uzbekistan                     人口數 = 24651362\n",
            "國家代碼 = VUT   國家名稱 = Vanuatu                        人口數 = 185904\n",
            "國家代碼 = VEN   國家名稱 = Venezuela, RB                  人口數 = 24311905\n",
            "國家代碼 = VNM   國家名稱 = Vietnam                        人口數 = 77631021\n",
            "國家代碼 = VIR   國家名稱 = Virgin Islands (U.S.)          人口數 = 109598\n",
            "國家代碼 = PSE   國家名稱 = West Bank and Gaza             人口數 = 3004887\n",
            "國家代碼 = YEM   國家名稱 = Yemen, Rep.                    人口數 = 17723779\n",
            "國家代碼 = ZMB   國家名稱 = Zambia                         人口數 = 10201780\n",
            "國家代碼 = ZWE   國家名稱 = Zimbabwe                       人口數 = 12509939\n"
          ]
        }
      ]
    },
    {
      "cell_type": "code",
      "source": [
        "import csv\n",
        "import matplotlib.pyplot as plt"
      ],
      "metadata": {
        "id": "bB55ItAR9Khc"
      },
      "execution_count": null,
      "outputs": []
    },
    {
      "cell_type": "code",
      "source": [
        "fn2 = 'TaipeiWeatherJan.csv'\n",
        "title=[]\n",
        "highTemps=[]\n",
        "lowTemps=[]\n",
        "with open(fn2) as csvfile:\n",
        "  data2 = csv.reader(csvfile)\n",
        "  data3 = list(data2)\n",
        "  title = data3[0]\n",
        "  print(title)\n",
        "  j = 0\n",
        "  for i in range(len(data3)):\n",
        "    if(j>0):\n",
        "      highTemps.append(data3[i][1])\n",
        "      lowTemps.append(data3[i][3])\n",
        "    j+=1\n",
        "plt.title('Weather Report, Jan.17')\n",
        "plt.ylabel('Temperature(C)')\n",
        "plt.tick_params(color='red')\n",
        "plt.plot(highTemps)"
      ],
      "metadata": {
        "colab": {
          "base_uri": "https://localhost:8080/",
          "height": 317
        },
        "id": "DsxliuQVxS9X",
        "outputId": "d882e47b-c566-4ab8-8944-c9e218ad1e68"
      },
      "execution_count": null,
      "outputs": [
        {
          "output_type": "stream",
          "name": "stdout",
          "text": [
            "['Date', 'HighTemperature', 'MeanTemperature', 'LowTemperature']\n"
          ]
        },
        {
          "output_type": "execute_result",
          "data": {
            "text/plain": [
              "[<matplotlib.lines.Line2D at 0x7ff720c31460>]"
            ]
          },
          "metadata": {},
          "execution_count": 94
        },
        {
          "output_type": "display_data",
          "data": {
            "text/plain": [
              "<Figure size 432x288 with 1 Axes>"
            ],
            "image/png": "[encoded data removed]"
          },
          "metadata": {
            "needs_background": "light"
          }
        }
      ]
    },
    {
      "cell_type": "code",
      "execution_count": null,
      "metadata": {
        "id": "Hhwh2gkFxMdd"
      },
      "outputs": [],
      "source": []
    }
  ]
}